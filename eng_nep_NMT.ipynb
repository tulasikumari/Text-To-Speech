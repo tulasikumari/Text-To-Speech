{
 "cells": [
  {
   "cell_type": "code",
   "execution_count": 1,
   "metadata": {},
   "outputs": [
    {
     "name": "stdout",
     "output_type": "stream",
     "text": [
      "                                                text\n",
      "0  Who?\\tको?\\tCC-BY 2.0 (France) Attribution: tat...\n",
      "1  Hide.\\tलुकाउनुहोस्।\\tCC-BY 2.0 (France) Attrib...\n",
      "2  Hide.\\tलुक।\\tCC-BY 2.0 (France) Attribution: t...\n",
      "3  Stay.\\tबस्नुहोस्।\\tCC-BY 2.0 (France) Attribut...\n",
      "4  Hello!\\tनमस्ते!\\tCC-BY 2.0 (France) Attributio...\n",
      "<class 'pandas.core.frame.DataFrame'>\n",
      "RangeIndex: 2689 entries, 0 to 2688\n",
      "Data columns (total 1 columns):\n",
      " #   Column  Non-Null Count  Dtype \n",
      "---  ------  --------------  ----- \n",
      " 0   text    2689 non-null   object\n",
      "dtypes: object(1)\n",
      "memory usage: 21.1+ KB\n",
      "None\n",
      "                                                     text\n",
      "count                                                2689\n",
      "unique                                               2689\n",
      "top     Who?\\tको?\\tCC-BY 2.0 (France) Attribution: tat...\n",
      "freq                                                    1\n",
      "0    Who?\\tको?\\tCC-BY 2.0 (France) Attribution: tat...\n",
      "1    Hide.\\tलुकाउनुहोस्।\\tCC-BY 2.0 (France) Attrib...\n",
      "2    Hide.\\tलुक।\\tCC-BY 2.0 (France) Attribution: t...\n",
      "3    Stay.\\tबस्नुहोस्।\\tCC-BY 2.0 (France) Attribut...\n",
      "4    Hello!\\tनमस्ते!\\tCC-BY 2.0 (France) Attributio...\n",
      "5    Smile.\\tमुस्कान।\\tCC-BY 2.0 (France) Attributi...\n",
      "6    Attack!\\tआक्रमण!\\tCC-BY 2.0 (France) Attributi...\n",
      "7    Go slow.\\tबिस्तारै जाउ।\\tCC-BY 2.0 (France) At...\n",
      "8    I'm Tom.\\tम टम हुँ।\\tCC-BY 2.0 (France) Attrib...\n",
      "9    Find Tom.\\tटमलाई खोज।\\tCC-BY 2.0 (France) Attr...\n",
      "Name: text, dtype: object\n"
     ]
    }
   ],
   "source": [
    "import os\n",
    "import pandas as pd\n",
    "\n",
    "# Step 1: Load Data\n",
    "file_path = 'npi.txt'\n",
    "\n",
    "# Check if the file exists\n",
    "if not os.path.exists(file_path):\n",
    "    print(f\"Error: The file '{file_path}' does not exist.\")\n",
    "else:\n",
    "    try:\n",
    "        with open(file_path, 'r', encoding='utf-8', errors='ignore') as file:\n",
    "            data = file.readlines()\n",
    "    except Exception as e:\n",
    "        print(f\"Error reading the file: {e}\")\n",
    "    else:\n",
    "        # Step 2: Create DataFrame\n",
    "        data = [line.strip() for line in data]\n",
    "        df = pd.DataFrame(data, columns=['text'])\n",
    "\n",
    "        # Display the first few rows of the DataFrame\n",
    "        print(df.head())\n",
    "\n",
    "          \n",
    "        \n",
    "\n",
    "        # Step 3: Data Exploration\n",
    "        print(df.info())\n",
    "        print(df.describe())\n",
    "        print(df['text'].head(10))\n"
   ]
  },
  {
   "cell_type": "code",
   "execution_count": 2,
   "metadata": {},
   "outputs": [],
   "source": [
    "import re\n",
    "from sklearn.feature_extraction.text import TfidfVectorizer\n",
    "from sklearn.model_selection import train_test_split\n",
    "\n",
    "# Clean the text data\n",
    "def clean_text(text):\n",
    "    text = text.lower()\n",
    "    text = re.sub(r'[^\\w\\s]', '', text)\n",
    "    return text\n",
    "\n",
    "df['text'] = df['text'].apply(clean_text)\n",
    "\n",
    "# Vectorization using TF-IDF\n",
    "tfidf = TfidfVectorizer(max_features=5000)\n",
    "X = tfidf.fit_transform(df['text']).toarray()\n",
    "\n",
    "# Assuming we have labels in the data (you need to adjust this according to your actual data)\n",
    "# For demonstration, I'm generating random labels\n",
    "import numpy as np\n",
    "df['label'] = np.random.randint(0, 2, df.shape[0])  # Replace this with actual labels if available\n",
    "\n",
    "y = df['label']\n",
    "\n",
    "# Step 4: Splitting Data\n",
    "X_train, X_test, y_train, y_test = train_test_split(X, y, test_size=0.2, random_state=42)\n"
   ]
  },
  {
   "cell_type": "code",
   "execution_count": 3,
   "metadata": {},
   "outputs": [
    {
     "name": "stdout",
     "output_type": "stream",
     "text": [
      "Accuracy: 0.4758364312267658\n",
      "Precision: 0.4762152976265822\n",
      "Recall: 0.4758364312267658\n",
      "F1 Score: 0.47560458059160454\n",
      "ROC AUC Score: 0.476162830879812\n"
     ]
    }
   ],
   "source": [
    "from sklearn.linear_model import LogisticRegression\n",
    "from sklearn.metrics import accuracy_score, precision_score, recall_score, f1_score, roc_auc_score\n",
    "\n",
    "# Step 5: Define Model\n",
    "model = LogisticRegression()\n",
    "model.fit(X_train, y_train)\n",
    "\n",
    "# Step 6: Evaluate Model\n",
    "y_pred = model.predict(X_test)\n",
    "\n",
    "print(f'Accuracy: {accuracy_score(y_test, y_pred)}')\n",
    "print(f'Precision: {precision_score(y_test, y_pred, average=\"weighted\")}')\n",
    "print(f'Recall: {recall_score(y_test, y_pred, average=\"weighted\")}')\n",
    "print(f'F1 Score: {f1_score(y_test, y_pred, average=\"weighted\")}')\n",
    "print(f'ROC AUC Score: {roc_auc_score(y_test, y_pred)}')\n"
   ]
  },
  {
   "cell_type": "code",
   "execution_count": 4,
   "metadata": {},
   "outputs": [
    {
     "data": {
      "text/plain": [
       "['tfidf_vectorizer.pkl']"
      ]
     },
     "execution_count": 4,
     "metadata": {},
     "output_type": "execute_result"
    }
   ],
   "source": [
    "import joblib\n",
    "\n",
    "# Step 7: Save Model\n",
    "joblib.dump(model, 'text_classification_model.pkl')\n",
    "joblib.dump(tfidf, 'tfidf_vectorizer.pkl')\n"
   ]
  },
  {
   "cell_type": "code",
   "execution_count": 5,
   "metadata": {},
   "outputs": [
    {
     "name": "stdout",
     "output_type": "stream",
     "text": [
      "Predictions: [1]\n"
     ]
    }
   ],
   "source": [
    "import joblib\n",
    "import numpy as np\n",
    "\n",
    "# Load the saved model and vectorizer\n",
    "model = joblib.load('text_classification_model.pkl')\n",
    "tfidf = joblib.load('tfidf_vectorizer.pkl')\n",
    "\n",
    "# Sample new data\n",
    "new_data = [\"Sample text for prediction.\"]\n",
    "\n",
    "# Clean the new data\n",
    "def clean_text(text):\n",
    "    text = text.lower()\n",
    "    text = re.sub(r'[^\\w\\s]', '', text)\n",
    "    return text\n",
    "\n",
    "new_data_cleaned = [clean_text(text) for text in new_data]\n",
    "\n",
    "# Transform the new data using the loaded vectorizer\n",
    "X_new = tfidf.transform(new_data_cleaned).toarray()\n",
    "\n",
    "# Make predictions\n",
    "predictions = model.predict(X_new)\n",
    "print(f'Predictions: {predictions}')\n"
   ]
  },
  {
   "cell_type": "code",
   "execution_count": 6,
   "metadata": {},
   "outputs": [
    {
     "name": "stdout",
     "output_type": "stream",
     "text": [
      "Best Parameters: {'C': 10, 'solver': 'liblinear'}\n",
      "Best Model: LogisticRegression(C=10, solver='liblinear')\n"
     ]
    },
    {
     "data": {
      "text/plain": [
       "['best_text_classification_model.pkl']"
      ]
     },
     "execution_count": 6,
     "metadata": {},
     "output_type": "execute_result"
    }
   ],
   "source": [
    "from sklearn.model_selection import GridSearchCV\n",
    "\n",
    "# Define parameter grid for Logistic Regression\n",
    "param_grid = {\n",
    "    'C': [0.01, 0.1, 1, 10],\n",
    "    'solver': ['liblinear', 'saga']\n",
    "}\n",
    "\n",
    "# Initialize Grid Search with cross-validation\n",
    "grid_search = GridSearchCV(LogisticRegression(), param_grid, cv=5, scoring='accuracy')\n",
    "\n",
    "# Fit Grid Search to the training data\n",
    "grid_search.fit(X_train, y_train)\n",
    "\n",
    "# Get the best parameters and model\n",
    "best_params = grid_search.best_params_\n",
    "best_model = grid_search.best_estimator_\n",
    "\n",
    "print(f'Best Parameters: {best_params}')\n",
    "print(f'Best Model: {best_model}')\n",
    "\n",
    "# Save the best model\n",
    "joblib.dump(best_model, 'best_text_classification_model.pkl')\n"
   ]
  },
  {
   "cell_type": "code",
   "execution_count": 7,
   "metadata": {},
   "outputs": [
    {
     "name": "stdout",
     "output_type": "stream",
     "text": [
      " * Serving Flask app '__main__'\n",
      " * Debug mode: on\n"
     ]
    },
    {
     "name": "stderr",
     "output_type": "stream",
     "text": [
      "WARNING: This is a development server. Do not use it in a production deployment. Use a production WSGI server instead.\n",
      " * Running on http://127.0.0.1:5000\n",
      "Press CTRL+C to quit\n",
      " * Restarting with stat\n"
     ]
    },
    {
     "ename": "SystemExit",
     "evalue": "1",
     "output_type": "error",
     "traceback": [
      "An exception has occurred, use %tb to see the full traceback.\n",
      "\u001b[1;31mSystemExit\u001b[0m\u001b[1;31m:\u001b[0m 1\n"
     ]
    },
    {
     "name": "stderr",
     "output_type": "stream",
     "text": [
      "C:\\Users\\Dell\\AppData\\Roaming\\Python\\Python39\\site-packages\\IPython\\core\\interactiveshell.py:3558: UserWarning: To exit: use 'exit', 'quit', or Ctrl-D.\n",
      "  warn(\"To exit: use 'exit', 'quit', or Ctrl-D.\", stacklevel=1)\n"
     ]
    }
   ],
   "source": [
    "from flask import Flask, request, jsonify\n",
    "import joblib\n",
    "\n",
    "app = Flask(__name__)\n",
    "\n",
    "# Load model and vectorizer\n",
    "try:\n",
    "    model = joblib.load('text_classification_model.pkl')\n",
    "    vectorizer = joblib.load('tfidf_vectorizer.pkl')\n",
    "except Exception as e:\n",
    "    print(f\"Error loading model or vectorizer: {e}\")\n",
    "    exit(1)\n",
    "\n",
    "@app.route('/predict', methods=['POST'])\n",
    "def predict():\n",
    "    try:\n",
    "        data = request.json\n",
    "        text = data['text']\n",
    "        transformed_text = vectorizer.transform([text])\n",
    "        prediction = model.predict(transformed_text)\n",
    "        return jsonify({'prediction': int(prediction[0])})\n",
    "    except Exception as e:\n",
    "        return jsonify({'error': str(e)})\n",
    "\n",
    "if __name__ == '__main__':\n",
    "    app.run(debug=True)\n"
   ]
  },
  {
   "cell_type": "code",
   "execution_count": 9,
   "metadata": {},
   "outputs": [
    {
     "name": "stdout",
     "output_type": "stream",
     "text": [
      "English: Hide.\n",
      "Nepali: लुक।\n"
     ]
    }
   ],
   "source": [
    "import re\n",
    "\n",
    "# Function to load translation data from the file\n",
    "def load_translation_data(file_path):\n",
    "    translation_dict = {}\n",
    "    with open(file_path, 'r', encoding='utf-8', errors='ignore') as file:\n",
    "        lines = file.readlines()\n",
    "    \n",
    "    for line in lines:\n",
    "        # Assuming the file format is: English text\\tNepali text\\t...\n",
    "        parts = line.split('\\t')\n",
    "        if len(parts) >= 2:\n",
    "            english_text = parts[0].strip().lower()\n",
    "            nepali_text = parts[1].strip()\n",
    "            translation_dict[english_text] = nepali_text\n",
    "    \n",
    "    return translation_dict\n",
    "\n",
    "# Function to translate English text to Nepali\n",
    "def translate_to_nepali(word, translation_dict):\n",
    "    return translation_dict.get(word.lower(), \"Translation not found\")\n",
    "\n",
    "def main():\n",
    "    # Load translation data from the file\n",
    "    translation_dict = load_translation_data('npi.txt')\n",
    "    \n",
    "    # Ask user for input\n",
    "    user_input = input(\"Enter an English word or phrase to translate to Nepali: \").strip()\n",
    "\n",
    "    # Translate the input\n",
    "    nepali_translation = translate_to_nepali(user_input, translation_dict)\n",
    "    \n",
    "    # Display the result\n",
    "    print(f\"English: {user_input}\")\n",
    "    print(f\"Nepali: {nepali_translation}\")\n",
    "\n",
    "if __name__ == \"__main__\":\n",
    "    main()\n"
   ]
  },
  {
   "cell_type": "markdown",
   "metadata": {},
   "source": []
  }
 ],
 "metadata": {
  "kernelspec": {
   "display_name": "Python 3",
   "language": "python",
   "name": "python3"
  },
  "language_info": {
   "codemirror_mode": {
    "name": "ipython",
    "version": 3
   },
   "file_extension": ".py",
   "mimetype": "text/x-python",
   "name": "python",
   "nbconvert_exporter": "python",
   "pygments_lexer": "ipython3",
   "version": "3.9.2"
  }
 },
 "nbformat": 4,
 "nbformat_minor": 2
}
